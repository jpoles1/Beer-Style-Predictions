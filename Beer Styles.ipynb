{
 "cells": [
  {
   "cell_type": "markdown",
   "metadata": {},
   "source": [
    "# Beer Styles Predictions"
   ]
  },
  {
   "cell_type": "markdown",
   "metadata": {},
   "source": [
    "Data comes from Kaggle Dataset: https://www.kaggle.com/jtrofe/beer-recipes"
   ]
  },
  {
   "cell_type": "markdown",
   "metadata": {},
   "source": [
    "## Import Necessary Libaries"
   ]
  },
  {
   "cell_type": "code",
   "execution_count": 1,
   "metadata": {},
   "outputs": [],
   "source": [
    "import pandas as pd\n",
    "import matplotlib.pyplot as plt\n",
    "\n",
    "%matplotlib inline"
   ]
  },
  {
   "cell_type": "markdown",
   "metadata": {},
   "source": [
    "## Clean Data"
   ]
  },
  {
   "cell_type": "code",
   "execution_count": 2,
   "metadata": {},
   "outputs": [],
   "source": [
    "#import data into dataframe\n",
    "rec = pd.read_csv('./BeerRecipes/recipeData.csv', encoding = \"ISO-8859-1\")"
   ]
  },
  {
   "cell_type": "code",
   "execution_count": 3,
   "metadata": {},
   "outputs": [
    {
     "data": {
      "text/plain": [
       "(73861, 22)"
      ]
     },
     "execution_count": 3,
     "metadata": {},
     "output_type": "execute_result"
    }
   ],
   "source": [
    "#there are 22 columns and 73K rows\n",
    "rec.shape"
   ]
  },
  {
   "cell_type": "code",
   "execution_count": 4,
   "metadata": {},
   "outputs": [
    {
     "data": {
      "text/plain": [
       "BeerID               0\n",
       "Name                 1\n",
       "URL                  0\n",
       "Style              596\n",
       "StyleID              0\n",
       "Size(L)              0\n",
       "OG                   0\n",
       "FG                   0\n",
       "ABV                  0\n",
       "IBU                  0\n",
       "Color                0\n",
       "BoilSize             0\n",
       "BoilTime             0\n",
       "BoilGravity       2990\n",
       "Efficiency           0\n",
       "MashThickness    29864\n",
       "SugarScale           0\n",
       "BrewMethod           0\n",
       "PitchRate        39252\n",
       "PrimaryTemp      22662\n",
       "PrimingMethod    67095\n",
       "PrimingAmount    69087\n",
       "dtype: int64"
      ]
     },
     "execution_count": 4,
     "metadata": {},
     "output_type": "execute_result"
    }
   ],
   "source": [
    "#quickly view which columns contain nulls, these are not easily imputable, and there is lots of missind data, will drop\n",
    "rec.isnull().sum()"
   ]
  },
  {
   "cell_type": "code",
   "execution_count": 5,
   "metadata": {},
   "outputs": [],
   "source": [
    "#drop columns with lots of missing data\n",
    "rec.drop(columns = ['MashThickness', 'PitchRate', 'PrimaryTemp', 'PrimingMethod', 'PrimingAmount', 'BoilGravity'], inplace = True)"
   ]
  },
  {
   "cell_type": "code",
   "execution_count": 6,
   "metadata": {},
   "outputs": [],
   "source": [
    "#drop columns that won't be used in prediction, non-recipe specific columns\n",
    "rec.drop(columns = ['Name', 'BeerID', 'Size(L)', 'BoilSize', 'BrewMethod', 'URL', 'SugarScale'], inplace = True)"
   ]
  },
  {
   "cell_type": "code",
   "execution_count": 7,
   "metadata": {},
   "outputs": [],
   "source": [
    "#drop rows that do not have a style, this is our y(what we will predict)\n",
    "rec.drop(rec[rec['Style'].isnull()].index, inplace =  True)"
   ]
  },
  {
   "cell_type": "markdown",
   "metadata": {},
   "source": [
    "#### Definining Broad Categories of Beer Styles"
   ]
  },
  {
   "cell_type": "code",
   "execution_count": 8,
   "metadata": {},
   "outputs": [],
   "source": [
    "#one hot encoding styles\n",
    "rec['IPA'] = rec['Style'].apply(lambda x: 1 if x.find('IPA') > -1 else 0)\n",
    "rec['Porter'] = rec['Style'].apply(lambda x: 1 if x.find('Porter') > -1 else 0)\n",
    "rec['Stout'] = rec['Style'].apply(lambda x: 1 if x.find('Stout') > -1 else 0)\n",
    "rec['Ale'] = rec['Style'].apply(lambda x: 1 if x.find('Ale') > -1 else 0)\n",
    "rec['Lager'] = rec['Style'].apply(lambda x: 1 if x.find('Lager') > -1 else (1 if x.find('Pils') > -1 else 0))\n",
    "rec['Witbier'] = rec['Style'].apply(lambda x: 1 if x.find('Witbier') > -1 else 0)\n",
    "rec['Saison'] = rec['Style'].apply(lambda x: 1 if x.find('Saison') > -1 else 0)"
   ]
  },
  {
   "cell_type": "code",
   "execution_count": 9,
   "metadata": {},
   "outputs": [
    {
     "data": {
      "text/plain": [
       "53592"
      ]
     },
     "execution_count": 9,
     "metadata": {},
     "output_type": "execute_result"
    }
   ],
   "source": [
    "#defined styles present in dataset\n",
    "rec[['IPA', 'Porter', 'Stout', 'Ale', 'Lager', 'Witbier', 'Saison']].sum().sum()"
   ]
  },
  {
   "cell_type": "code",
   "execution_count": 10,
   "metadata": {},
   "outputs": [],
   "source": [
    "#drop styles that don't fit into pre-defined categories\n",
    "rec.drop(rec[(rec['IPA'] != 1) & (rec['Porter'] != 1) & (rec['Stout'] != 1) & (rec['Ale'] != 1) & (rec['Lager'] != 1) \\\n",
    "                      & (rec['Witbier'] != 1) & (rec['Saison'] != 1)].index, inplace = True)"
   ]
  },
  {
   "cell_type": "markdown",
   "metadata": {},
   "source": [
    "#### EDA"
   ]
  },
  {
   "cell_type": "code",
   "execution_count": 11,
   "metadata": {},
   "outputs": [
    {
     "data": {
      "text/html": [
       "<div>\n",
       "<style scoped>\n",
       "    .dataframe tbody tr th:only-of-type {\n",
       "        vertical-align: middle;\n",
       "    }\n",
       "\n",
       "    .dataframe tbody tr th {\n",
       "        vertical-align: top;\n",
       "    }\n",
       "\n",
       "    .dataframe thead th {\n",
       "        text-align: right;\n",
       "    }\n",
       "</style>\n",
       "<table border=\"1\" class=\"dataframe\">\n",
       "  <thead>\n",
       "    <tr style=\"text-align: right;\">\n",
       "      <th></th>\n",
       "      <th>Style</th>\n",
       "      <th>Style Count</th>\n",
       "    </tr>\n",
       "  </thead>\n",
       "  <tbody>\n",
       "    <tr>\n",
       "      <th>63</th>\n",
       "      <td>Czech Amber Lager</td>\n",
       "      <td>32</td>\n",
       "    </tr>\n",
       "    <tr>\n",
       "      <th>64</th>\n",
       "      <td>Tropical Stout</td>\n",
       "      <td>31</td>\n",
       "    </tr>\n",
       "    <tr>\n",
       "      <th>65</th>\n",
       "      <td>Pre-Prohibition Lager</td>\n",
       "      <td>30</td>\n",
       "    </tr>\n",
       "    <tr>\n",
       "      <th>66</th>\n",
       "      <td>Pre-Prohibition Porter</td>\n",
       "      <td>12</td>\n",
       "    </tr>\n",
       "    <tr>\n",
       "      <th>67</th>\n",
       "      <td>London Brown Ale</td>\n",
       "      <td>8</td>\n",
       "    </tr>\n",
       "  </tbody>\n",
       "</table>\n",
       "</div>"
      ],
      "text/plain": [
       "                     Style  Style Count\n",
       "63       Czech Amber Lager           32\n",
       "64          Tropical Stout           31\n",
       "65   Pre-Prohibition Lager           30\n",
       "66  Pre-Prohibition Porter           12\n",
       "67        London Brown Ale            8"
      ]
     },
     "execution_count": 11,
     "metadata": {},
     "output_type": "execute_result"
    }
   ],
   "source": [
    "#saving count of top style, American IPA, to determine baseline accuracy\n",
    "top_style = rec.groupby(by = 'Style')[['Style']].count().sort_values(by = 'Style', ascending = False).rename(columns = {'Style':'Style Count'}).reset_index().loc[0,'Style Count']\n",
    "\n",
    "#showing counts of granular styles in dataset\n",
    "rec.groupby(by = 'Style')[['Style']].count().sort_values(by = 'Style', ascending = False).rename(columns = {'Style':'Style Count'}).reset_index().tail()"
   ]
  },
  {
   "cell_type": "code",
   "execution_count": 12,
   "metadata": {},
   "outputs": [
    {
     "data": {
      "text/html": [
       "<div>\n",
       "<style scoped>\n",
       "    .dataframe tbody tr th:only-of-type {\n",
       "        vertical-align: middle;\n",
       "    }\n",
       "\n",
       "    .dataframe tbody tr th {\n",
       "        vertical-align: top;\n",
       "    }\n",
       "\n",
       "    .dataframe thead th {\n",
       "        text-align: right;\n",
       "    }\n",
       "</style>\n",
       "<table border=\"1\" class=\"dataframe\">\n",
       "  <thead>\n",
       "    <tr style=\"text-align: right;\">\n",
       "      <th></th>\n",
       "      <th>Style</th>\n",
       "      <th>Style Count</th>\n",
       "      <th>percent</th>\n",
       "    </tr>\n",
       "  </thead>\n",
       "  <tbody>\n",
       "    <tr>\n",
       "      <th>3</th>\n",
       "      <td>Ale</td>\n",
       "      <td>18859</td>\n",
       "      <td>35.189954</td>\n",
       "    </tr>\n",
       "    <tr>\n",
       "      <th>0</th>\n",
       "      <td>IPA</td>\n",
       "      <td>17064</td>\n",
       "      <td>31.840573</td>\n",
       "    </tr>\n",
       "    <tr>\n",
       "      <th>2</th>\n",
       "      <td>Stout</td>\n",
       "      <td>5954</td>\n",
       "      <td>11.109867</td>\n",
       "    </tr>\n",
       "    <tr>\n",
       "      <th>4</th>\n",
       "      <td>Lager</td>\n",
       "      <td>5326</td>\n",
       "      <td>9.938050</td>\n",
       "    </tr>\n",
       "    <tr>\n",
       "      <th>1</th>\n",
       "      <td>Porter</td>\n",
       "      <td>2700</td>\n",
       "      <td>5.038065</td>\n",
       "    </tr>\n",
       "    <tr>\n",
       "      <th>6</th>\n",
       "      <td>Saison</td>\n",
       "      <td>2617</td>\n",
       "      <td>4.883192</td>\n",
       "    </tr>\n",
       "    <tr>\n",
       "      <th>5</th>\n",
       "      <td>Witbier</td>\n",
       "      <td>1072</td>\n",
       "      <td>2.000299</td>\n",
       "    </tr>\n",
       "  </tbody>\n",
       "</table>\n",
       "</div>"
      ],
      "text/plain": [
       "     Style  Style Count    percent\n",
       "3      Ale        18859  35.189954\n",
       "0      IPA        17064  31.840573\n",
       "2    Stout         5954  11.109867\n",
       "4    Lager         5326   9.938050\n",
       "1   Porter         2700   5.038065\n",
       "6   Saison         2617   4.883192\n",
       "5  Witbier         1072   2.000299"
      ]
     },
     "execution_count": 12,
     "metadata": {},
     "output_type": "execute_result"
    }
   ],
   "source": [
    "#dataframe showing totals of styles\n",
    "style_agg = pd.DataFrame(rec[['IPA', 'Porter', 'Stout', 'Ale', 'Lager', 'Witbier', 'Saison']].sum(), columns = ['Style Count']).reset_index().rename(columns = {'index':'Style'}).sort_values(by = 'Style Count', ascending = False)\n",
    "style_agg['percent'] = style_agg['Style Count'].apply(lambda x: x/style_agg['Style Count'].sum()*100)\n",
    "style_agg"
   ]
  },
  {
   "cell_type": "code",
   "execution_count": 28,
   "metadata": {},
   "outputs": [
    {
     "data": {
      "image/png": "[encoded data removed]",
      "text/plain": [
       "<matplotlib.figure.Figure at 0x1e98a65a208>"
      ]
     },
     "metadata": {},
     "output_type": "display_data"
    }
   ],
   "source": [
    "#plotting counts of styles\n",
    "style_agg.plot(x = 'Style', y = 'Style Count', kind = 'bar', legend = False)\n",
    "plt.title('Counts of Beer Styles')\n",
    "plt.xlabel('Recipe Style')\n",
    "plt.ylabel('Recipe Count');"
   ]
  },
  {
   "cell_type": "code",
   "execution_count": 50,
   "metadata": {},
   "outputs": [
    {
     "data": {
      "image/png": "[encoded data removed]",
      "text/plain": [
       "<matplotlib.figure.Figure at 0x1e98d217ac8>"
      ]
     },
     "metadata": {},
     "output_type": "display_data"
    }
   ],
   "source": [
    "rec.hist(column = 'Color', grid = False)\n",
    "plt.xlim(-3, 60)\n",
    "plt.title('Standard Reference Method (SRM) Color Histogram')\n",
    "plt.xlabel('Recipe SRMs')\n",
    "plt.ylabel('Count of Colors');"
   ]
  },
  {
   "cell_type": "markdown",
   "metadata": {},
   "source": [
    "## Split/prepare data for modeling"
   ]
  },
  {
   "cell_type": "code",
   "execution_count": 13,
   "metadata": {},
   "outputs": [],
   "source": [
    "from sklearn.model_selection import train_test_split\n",
    "from sklearn.preprocessing import StandardScaler"
   ]
  },
  {
   "cell_type": "code",
   "execution_count": 14,
   "metadata": {},
   "outputs": [],
   "source": [
    "#declare X and y\n",
    "X = rec[['OG', 'FG', 'ABV', 'IBU', 'Color', 'BoilTime', 'Efficiency']]\n",
    "y = rec[['IPA', 'Porter', 'Stout', 'Ale', 'Lager', 'Witbier', 'Saison']]"
   ]
  },
  {
   "cell_type": "code",
   "execution_count": 260,
   "metadata": {},
   "outputs": [],
   "source": [
    "#train test split\n",
    "X_train, X_test, y_train, y_test = train_test_split(X, y, test_size = 0.3, random_state = 42)\n",
    "\n",
    "#set as numpy array\n",
    "y_train = y_train.as_matrix()\n",
    "y_test = y_test.as_matrix()"
   ]
  },
  {
   "cell_type": "code",
   "execution_count": 261,
   "metadata": {},
   "outputs": [],
   "source": [
    "#standardizing data to normalize with a mean of 0 and a stdDev of 1\n",
    "ss = StandardScaler()\n",
    "X_train = ss.fit_transform(X_train)\n",
    "X_test = ss.transform(X_test)"
   ]
  },
  {
   "cell_type": "markdown",
   "metadata": {},
   "source": [
    "## Create Models"
   ]
  },
  {
   "cell_type": "markdown",
   "metadata": {},
   "source": [
    "### A) CART"
   ]
  },
  {
   "cell_type": "code",
   "execution_count": 262,
   "metadata": {},
   "outputs": [],
   "source": [
    "from sklearn.model_selection import cross_val_score, StratifiedKFold\n",
    "from sklearn.model_selection import GridSearchCV\n",
    "\n",
    "from sklearn.tree import DecisionTreeClassifier\n",
    "from sklearn.ensemble import RandomForestClassifier"
   ]
  },
  {
   "cell_type": "code",
   "execution_count": 263,
   "metadata": {},
   "outputs": [],
   "source": [
    "def CART_model_picker(model_list, X_train, y_train, X_test, y_test):\n",
    "    '''Returns cross-val score and score for all input CART models, returns in sorted order of best performing'''\n",
    "    results = []\n",
    "    \n",
    "    for (k,v) in model_list.items():\n",
    "        scores = cross_val_score(v, X_train, y_train, cv = 5, n_jobs = -1)\n",
    "        v.fit(X_train, y_train)\n",
    "\n",
    "        results.append((k, scores.mean(), v.score(X_test, y_test)))\n",
    "    \n",
    "    results.sort(key = lambda x: x[2], reverse = True)\n",
    "    results.insert(0, ('Model', 'Cross_val_score mean', 'Model Score R^2'))\n",
    "    \n",
    "    return results"
   ]
  },
  {
   "cell_type": "code",
   "execution_count": 264,
   "metadata": {},
   "outputs": [
    {
     "data": {
      "text/plain": [
       "[('Model', 'Cross_val_score mean', 'Model Score R^2'),\n",
       " ('Decision Tree', 0.5606171891858204, 0.5684786665008086),\n",
       " ('Random Forest', 0.5348138288450726, 0.5365095161089688),\n",
       " ('Extra Trees', 0.5143946367067675, 0.5225152382137082)]"
      ]
     },
     "execution_count": 264,
     "metadata": {},
     "output_type": "execute_result"
    }
   ],
   "source": [
    "#figure out which CART model performs the best\n",
    "models = {'Decision Tree': DecisionTreeClassifier(),\n",
    "          'Extra Trees': ExtraTreesClassifier(),\n",
    "          'Random Forest':RandomForestClassifier()\n",
    "         }\n",
    "\n",
    "dt_results = CART_model_picker(models, X_train, y_train, X_test, y_test)\n",
    "dt_results"
   ]
  },
  {
   "cell_type": "markdown",
   "metadata": {},
   "source": [
    "### B) Neural Network"
   ]
  },
  {
   "cell_type": "code",
   "execution_count": 265,
   "metadata": {},
   "outputs": [],
   "source": [
    "from keras.models import Sequential\n",
    "from keras.layers import Dense, Dropout\n",
    "from keras import regularizers"
   ]
  },
  {
   "cell_type": "code",
   "execution_count": 274,
   "metadata": {},
   "outputs": [],
   "source": [
    "#create model\n",
    "model = Sequential()"
   ]
  },
  {
   "cell_type": "code",
   "execution_count": 275,
   "metadata": {},
   "outputs": [],
   "source": [
    "#network topology\n",
    "input_units = X_train.shape[1]\n",
    "hidden_units = X_train.shape[1] - 1\n",
    "\n",
    "#input layer\n",
    "model.add(Dense(hidden_units, \n",
    "                input_dim = input_units, \n",
    "                activation = 'relu',\n",
    "                kernel_regularizer=regularizers.l2(0.0001)))\n",
    "#hidden layer\n",
    "model.add(Dense(hidden_units, \n",
    "               activation = 'relu',))\n",
    "\n",
    "#output layer\n",
    "model.add(Dense(7, activation = 'sigmoid'))"
   ]
  },
  {
   "cell_type": "code",
   "execution_count": 276,
   "metadata": {},
   "outputs": [],
   "source": [
    "#compile the model\n",
    "model.compile(loss = 'binary_crossentropy',\n",
    "              optimizer = 'adam',\n",
    "              metrics = ['binary_accuracy'])"
   ]
  },
  {
   "cell_type": "code",
   "execution_count": 277,
   "metadata": {},
   "outputs": [
    {
     "name": "stdout",
     "output_type": "stream",
     "text": [
      "Train on 37514 samples, validate on 16078 samples\n",
      "Epoch 1/10\n",
      "37514/37514 [==============================] - 5s 142us/step - loss: 0.3693 - binary_accuracy: 0.8385 - val_loss: 0.2611 - val_binary_accuracy: 0.8853\n",
      "Epoch 2/10\n",
      "37514/37514 [==============================] - 5s 123us/step - loss: 0.2524 - binary_accuracy: 0.8884 - val_loss: 0.2459 - val_binary_accuracy: 0.8921\n",
      "Epoch 3/10\n",
      "37514/37514 [==============================] - 4s 116us/step - loss: 0.2439 - binary_accuracy: 0.8943 - val_loss: 0.2402 - val_binary_accuracy: 0.8965\n",
      "Epoch 4/10\n",
      "37514/37514 [==============================] - 5s 125us/step - loss: 0.2397 - binary_accuracy: 0.8979 - val_loss: 0.2372 - val_binary_accuracy: 0.8994\n",
      "Epoch 5/10\n",
      "37514/37514 [==============================] - 4s 119us/step - loss: 0.2369 - binary_accuracy: 0.8994 - val_loss: 0.2346 - val_binary_accuracy: 0.9004\n",
      "Epoch 6/10\n",
      "37514/37514 [==============================] - 4s 116us/step - loss: 0.2348 - binary_accuracy: 0.9008 - val_loss: 0.2328 - val_binary_accuracy: 0.9015\n",
      "Epoch 7/10\n",
      "37514/37514 [==============================] - 5s 140us/step - loss: 0.2335 - binary_accuracy: 0.9013 - val_loss: 0.2317 - val_binary_accuracy: 0.9026\n",
      "Epoch 8/10\n",
      "37514/37514 [==============================] - 4s 119us/step - loss: 0.2324 - binary_accuracy: 0.9016 - val_loss: 0.2311 - val_binary_accuracy: 0.9026\n",
      "Epoch 9/10\n",
      "37514/37514 [==============================] - 5s 132us/step - loss: 0.2316 - binary_accuracy: 0.9018 - val_loss: 0.2305 - val_binary_accuracy: 0.9029\n",
      "Epoch 10/10\n",
      "37514/37514 [==============================] - 5s 122us/step - loss: 0.2311 - binary_accuracy: 0.9022 - val_loss: 0.2305 - val_binary_accuracy: 0.9031\n"
     ]
    }
   ],
   "source": [
    "#train the model\n",
    "history = model.fit(X_train, y_train,\n",
    "                   validation_data = (X_test, y_test),\n",
    "                   epochs = 10, \n",
    "                   batch_size = None, \n",
    "                   verbose = 1)"
   ]
  },
  {
   "cell_type": "code",
   "execution_count": 280,
   "metadata": {},
   "outputs": [
    {
     "data": {
      "image/png": "[encoded data removed]",
      "text/plain": [
       "<matplotlib.figure.Figure at 0x255978cc080>"
      ]
     },
     "metadata": {},
     "output_type": "display_data"
    }
   ],
   "source": [
    "#plotting accuracy over epochs\n",
    "plt.plot(history.history['val_binary_accuracy'])\n",
    "plt.title('Neural Network Accuracy over Epochs')\n",
    "plt.ylabel('Accuracy')\n",
    "plt.xlabel('Epochs');"
   ]
  },
  {
   "cell_type": "code",
   "execution_count": 279,
   "metadata": {},
   "outputs": [
    {
     "data": {
      "image/png": "[encoded data removed]",
      "text/plain": [
       "<matplotlib.figure.Figure at 0x25598ce9748>"
      ]
     },
     "metadata": {},
     "output_type": "display_data"
    }
   ],
   "source": [
    "train_loss = history.history['loss']\n",
    "test_loss = history.history['val_loss']\n",
    "\n",
    "plt.plot(train_loss, label = 'Train loss')\n",
    "plt.plot(test_loss, label = 'Test loss')\n",
    "plt.legend();\n",
    "plt.title('Neural Network Test and Train Loss Over Epochs')\n",
    "plt.ylabel('L2 Loss')\n",
    "plt.xlabel('Epochs');"
   ]
  },
  {
   "cell_type": "code",
   "execution_count": null,
   "metadata": {},
   "outputs": [],
   "source": []
  }
 ],
 "metadata": {
  "kernelspec": {
   "display_name": "Python 3",
   "language": "python",
   "name": "python3"
  },
  "language_info": {
   "codemirror_mode": {
    "name": "ipython",
    "version": 3
   },
   "file_extension": ".py",
   "mimetype": "text/x-python",
   "name": "python",
   "nbconvert_exporter": "python",
   "pygments_lexer": "ipython3",
   "version": "3.5.4"
  }
 },
 "nbformat": 4,
 "nbformat_minor": 2
}
