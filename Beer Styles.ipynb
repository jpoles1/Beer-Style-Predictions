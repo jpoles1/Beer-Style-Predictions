{
 "cells": [
  {
   "cell_type": "markdown",
   "metadata": {},
   "source": [
    "# Beer Styles Predictions"
   ]
  },
  {
   "cell_type": "markdown",
   "metadata": {},
   "source": [
    "Data comes from Kaggle Dataset: https://www.kaggle.com/jtrofe/beer-recipes"
   ]
  },
  {
   "cell_type": "markdown",
   "metadata": {},
   "source": [
    "## Import Necessary Libaries"
   ]
  },
  {
   "cell_type": "code",
   "execution_count": 69,
   "metadata": {},
   "outputs": [],
   "source": [
    "import pandas as pd\n",
    "import matplotlib.pyplot as plt\n",
    "import seaborn as sns\n",
    "\n",
    "%matplotlib inline"
   ]
  },
  {
   "cell_type": "markdown",
   "metadata": {},
   "source": [
    "## Clean Data"
   ]
  },
  {
   "cell_type": "code",
   "execution_count": 70,
   "metadata": {},
   "outputs": [],
   "source": [
    "#import data into dataframe\n",
    "rec = pd.read_csv('./BeerRecipes/recipeData.csv', encoding = \"ISO-8859-1\")"
   ]
  },
  {
   "cell_type": "code",
   "execution_count": 71,
   "metadata": {},
   "outputs": [
    {
     "data": {
      "text/plain": [
       "(73861, 22)"
      ]
     },
     "execution_count": 71,
     "metadata": {},
     "output_type": "execute_result"
    }
   ],
   "source": [
    "#there are 22 columns and 73K rows\n",
    "rec.shape"
   ]
  },
  {
   "cell_type": "code",
   "execution_count": 72,
   "metadata": {},
   "outputs": [
    {
     "data": {
      "text/plain": [
       "BeerID               0\n",
       "Name                 1\n",
       "URL                  0\n",
       "Style              596\n",
       "StyleID              0\n",
       "Size(L)              0\n",
       "OG                   0\n",
       "FG                   0\n",
       "ABV                  0\n",
       "IBU                  0\n",
       "Color                0\n",
       "BoilSize             0\n",
       "BoilTime             0\n",
       "BoilGravity       2990\n",
       "Efficiency           0\n",
       "MashThickness    29864\n",
       "SugarScale           0\n",
       "BrewMethod           0\n",
       "PitchRate        39252\n",
       "PrimaryTemp      22662\n",
       "PrimingMethod    67095\n",
       "PrimingAmount    69087\n",
       "dtype: int64"
      ]
     },
     "execution_count": 72,
     "metadata": {},
     "output_type": "execute_result"
    }
   ],
   "source": [
    "#quickly view which columns contain nulls, these are not easily imputable, and there is lots of missind data, will drop\n",
    "rec.isnull().sum()"
   ]
  },
  {
   "cell_type": "code",
   "execution_count": 73,
   "metadata": {},
   "outputs": [],
   "source": [
    "#drop columns with lots of missing data\n",
    "rec.drop(columns = ['MashThickness', 'PitchRate', 'PrimaryTemp', 'PrimingMethod', 'PrimingAmount', 'BoilGravity'], inplace = True)"
   ]
  },
  {
   "cell_type": "code",
   "execution_count": 74,
   "metadata": {},
   "outputs": [],
   "source": [
    "#drop columns that won't be used in prediction, non-recipe specific columns\n",
    "rec.drop(columns = ['Name', 'BeerID', 'Size(L)', 'BoilSize', 'BrewMethod', 'URL', 'SugarScale'], inplace = True)"
   ]
  },
  {
   "cell_type": "code",
   "execution_count": 75,
   "metadata": {},
   "outputs": [],
   "source": [
    "#drop rows that do not have a style, this is our y(what we will predict)\n",
    "rec.drop(rec[rec['Style'].isnull()].index, inplace =  True)\n"
   ]
  },
  {
   "cell_type": "markdown",
   "metadata": {},
   "source": [
    "#### Definining Broad Categories of Beer Styles"
   ]
  },
  {
   "cell_type": "code",
   "execution_count": 76,
   "metadata": {},
   "outputs": [],
   "source": [
    "#one hot encoding styles\n",
    "rec['IPA'] = rec['Style'].apply(lambda x: 1 if x.find('IPA') > -1 else 0)\n",
    "rec['Porter'] = rec['Style'].apply(lambda x: 1 if x.find('Porter') > -1 else 0)\n",
    "rec['Stout'] = rec['Style'].apply(lambda x: 1 if x.find('Stout') > -1 else 0)\n",
    "rec['Ale'] = rec['Style'].apply(lambda x: 1 if x.find('Ale') > -1 else 0)\n",
    "rec['Lager'] = rec['Style'].apply(lambda x: 1 if x.find('Lager') > -1 else (1 if x.find('Pils') > -1 else 0))\n",
    "rec['Witbier'] = rec['Style'].apply(lambda x: 1 if x.find('Witbier') > -1 else 0)\n",
    "rec['Saison'] = rec['Style'].apply(lambda x: 1 if x.find('Saison') > -1 else 0)\n"
   ]
  },
  {
   "cell_type": "code",
   "execution_count": 77,
   "metadata": {},
   "outputs": [
    {
     "data": {
      "text/plain": [
       "53592"
      ]
     },
     "execution_count": 77,
     "metadata": {},
     "output_type": "execute_result"
    }
   ],
   "source": [
    "#defined styles present in dataset\n",
    "rec[['IPA', 'Porter', 'Stout', 'Ale', 'Lager', 'Witbier', 'Saison']].sum().sum()"
   ]
  },
  {
   "cell_type": "code",
   "execution_count": 78,
   "metadata": {},
   "outputs": [],
   "source": [
    "#drop styles that don't fit into pre-defined categories\n",
    "rec.drop(rec[(rec['IPA'] != 1) & (rec['Porter'] != 1) & (rec['Stout'] != 1) & (rec['Ale'] != 1) & (rec['Lager'] != 1) \\\n",
    "                      & (rec['Witbier'] != 1) & (rec['Saison'] != 1)].index, inplace = True)"
   ]
  },
  {
   "cell_type": "code",
   "execution_count": 79,
   "metadata": {},
   "outputs": [],
   "source": [
    "#reset the index \n",
    "rec.reset_index(drop = True, inplace = True)"
   ]
  },
  {
   "cell_type": "code",
   "execution_count": 80,
   "metadata": {},
   "outputs": [],
   "source": [
    "#setting column of ids for newly declared styles, reverse one-hot-encoded\n",
    "rec['New_StyleID'] = 0\n",
    "\n",
    "for i in range(rec.shape[0]):\n",
    "    if rec.loc[i, 'IPA'] == 1:\n",
    "        rec.loc[i, 'New_StyleID'] = 'IPA'\n",
    "    elif rec.loc[i, 'Porter'] == 1:\n",
    "        rec.loc[i, 'New_StyleID'] = 'Porter'\n",
    "    elif rec.loc[i, 'Stout'] == 1:\n",
    "        rec.loc[i, 'New_StyleID'] = 'Stout'\n",
    "    elif rec.loc[i, 'Ale'] == 1:\n",
    "        rec.loc[i, 'New_StyleID'] = 'Ale'\n",
    "    elif rec.loc[i, 'Lager'] == 1:\n",
    "        rec.loc[i, 'New_StyleID'] = 'Lager'\n",
    "    elif rec.loc[i, 'Witbier'] == 1:\n",
    "        rec.loc[i, 'New_StyleID'] = 'Witbier'\n",
    "    elif rec.loc[i, 'Saison'] == 1:\n",
    "        rec.loc[i, 'New_StyleID'] = 'Saison'"
   ]
  },
  {
   "cell_type": "code",
   "execution_count": 81,
   "metadata": {},
   "outputs": [
    {
     "data": {
      "text/html": [
       "<div>\n",
       "<style scoped>\n",
       "    .dataframe tbody tr th:only-of-type {\n",
       "        vertical-align: middle;\n",
       "    }\n",
       "\n",
       "    .dataframe tbody tr th {\n",
       "        vertical-align: top;\n",
       "    }\n",
       "\n",
       "    .dataframe thead th {\n",
       "        text-align: right;\n",
       "    }\n",
       "</style>\n",
       "<table border=\"1\" class=\"dataframe\">\n",
       "  <thead>\n",
       "    <tr style=\"text-align: right;\">\n",
       "      <th></th>\n",
       "      <th>Style</th>\n",
       "      <th>StyleID</th>\n",
       "      <th>OG</th>\n",
       "      <th>FG</th>\n",
       "      <th>ABV</th>\n",
       "      <th>IBU</th>\n",
       "      <th>Color</th>\n",
       "      <th>BoilTime</th>\n",
       "      <th>Efficiency</th>\n",
       "      <th>IPA</th>\n",
       "      <th>Porter</th>\n",
       "      <th>Stout</th>\n",
       "      <th>Ale</th>\n",
       "      <th>Lager</th>\n",
       "      <th>Witbier</th>\n",
       "      <th>Saison</th>\n",
       "      <th>New_StyleID</th>\n",
       "    </tr>\n",
       "  </thead>\n",
       "  <tbody>\n",
       "    <tr>\n",
       "      <th>0</th>\n",
       "      <td>Cream Ale</td>\n",
       "      <td>45</td>\n",
       "      <td>1.055</td>\n",
       "      <td>1.013</td>\n",
       "      <td>5.48</td>\n",
       "      <td>17.65</td>\n",
       "      <td>4.83</td>\n",
       "      <td>75</td>\n",
       "      <td>70.0</td>\n",
       "      <td>0</td>\n",
       "      <td>0</td>\n",
       "      <td>0</td>\n",
       "      <td>1</td>\n",
       "      <td>0</td>\n",
       "      <td>0</td>\n",
       "      <td>0</td>\n",
       "      <td>Ale</td>\n",
       "    </tr>\n",
       "    <tr>\n",
       "      <th>1</th>\n",
       "      <td>American IPA</td>\n",
       "      <td>7</td>\n",
       "      <td>1.063</td>\n",
       "      <td>1.018</td>\n",
       "      <td>5.91</td>\n",
       "      <td>59.25</td>\n",
       "      <td>8.98</td>\n",
       "      <td>60</td>\n",
       "      <td>70.0</td>\n",
       "      <td>1</td>\n",
       "      <td>0</td>\n",
       "      <td>0</td>\n",
       "      <td>0</td>\n",
       "      <td>0</td>\n",
       "      <td>0</td>\n",
       "      <td>0</td>\n",
       "      <td>IPA</td>\n",
       "    </tr>\n",
       "    <tr>\n",
       "      <th>2</th>\n",
       "      <td>American IPA</td>\n",
       "      <td>7</td>\n",
       "      <td>1.061</td>\n",
       "      <td>1.017</td>\n",
       "      <td>5.80</td>\n",
       "      <td>54.48</td>\n",
       "      <td>8.50</td>\n",
       "      <td>60</td>\n",
       "      <td>70.0</td>\n",
       "      <td>1</td>\n",
       "      <td>0</td>\n",
       "      <td>0</td>\n",
       "      <td>0</td>\n",
       "      <td>0</td>\n",
       "      <td>0</td>\n",
       "      <td>0</td>\n",
       "      <td>IPA</td>\n",
       "    </tr>\n",
       "    <tr>\n",
       "      <th>3</th>\n",
       "      <td>Belgian Blond Ale</td>\n",
       "      <td>20</td>\n",
       "      <td>1.060</td>\n",
       "      <td>1.010</td>\n",
       "      <td>6.48</td>\n",
       "      <td>17.84</td>\n",
       "      <td>4.57</td>\n",
       "      <td>90</td>\n",
       "      <td>72.0</td>\n",
       "      <td>0</td>\n",
       "      <td>0</td>\n",
       "      <td>0</td>\n",
       "      <td>1</td>\n",
       "      <td>0</td>\n",
       "      <td>0</td>\n",
       "      <td>0</td>\n",
       "      <td>Ale</td>\n",
       "    </tr>\n",
       "    <tr>\n",
       "      <th>4</th>\n",
       "      <td>American Pale Ale</td>\n",
       "      <td>10</td>\n",
       "      <td>1.055</td>\n",
       "      <td>1.013</td>\n",
       "      <td>5.58</td>\n",
       "      <td>40.12</td>\n",
       "      <td>8.00</td>\n",
       "      <td>70</td>\n",
       "      <td>79.0</td>\n",
       "      <td>0</td>\n",
       "      <td>0</td>\n",
       "      <td>0</td>\n",
       "      <td>1</td>\n",
       "      <td>0</td>\n",
       "      <td>0</td>\n",
       "      <td>0</td>\n",
       "      <td>Ale</td>\n",
       "    </tr>\n",
       "  </tbody>\n",
       "</table>\n",
       "</div>"
      ],
      "text/plain": [
       "               Style  StyleID     OG     FG   ABV    IBU  Color  BoilTime  \\\n",
       "0          Cream Ale       45  1.055  1.013  5.48  17.65   4.83        75   \n",
       "1       American IPA        7  1.063  1.018  5.91  59.25   8.98        60   \n",
       "2       American IPA        7  1.061  1.017  5.80  54.48   8.50        60   \n",
       "3  Belgian Blond Ale       20  1.060  1.010  6.48  17.84   4.57        90   \n",
       "4  American Pale Ale       10  1.055  1.013  5.58  40.12   8.00        70   \n",
       "\n",
       "   Efficiency  IPA  Porter  Stout  Ale  Lager  Witbier  Saison New_StyleID  \n",
       "0        70.0    0       0      0    1      0        0       0         Ale  \n",
       "1        70.0    1       0      0    0      0        0       0         IPA  \n",
       "2        70.0    1       0      0    0      0        0       0         IPA  \n",
       "3        72.0    0       0      0    1      0        0       0         Ale  \n",
       "4        79.0    0       0      0    1      0        0       0         Ale  "
      ]
     },
     "execution_count": 81,
     "metadata": {},
     "output_type": "execute_result"
    }
   ],
   "source": [
    "rec.head()"
   ]
  },
  {
   "cell_type": "markdown",
   "metadata": {},
   "source": [
    "#### EDA"
   ]
  },
  {
   "cell_type": "code",
   "execution_count": 82,
   "metadata": {},
   "outputs": [
    {
     "data": {
      "text/html": [
       "<div>\n",
       "<style scoped>\n",
       "    .dataframe tbody tr th:only-of-type {\n",
       "        vertical-align: middle;\n",
       "    }\n",
       "\n",
       "    .dataframe tbody tr th {\n",
       "        vertical-align: top;\n",
       "    }\n",
       "\n",
       "    .dataframe thead th {\n",
       "        text-align: right;\n",
       "    }\n",
       "</style>\n",
       "<table border=\"1\" class=\"dataframe\">\n",
       "  <thead>\n",
       "    <tr style=\"text-align: right;\">\n",
       "      <th></th>\n",
       "      <th>Style</th>\n",
       "      <th>Style Count</th>\n",
       "    </tr>\n",
       "  </thead>\n",
       "  <tbody>\n",
       "    <tr>\n",
       "      <th>63</th>\n",
       "      <td>Czech Amber Lager</td>\n",
       "      <td>32</td>\n",
       "    </tr>\n",
       "    <tr>\n",
       "      <th>64</th>\n",
       "      <td>Tropical Stout</td>\n",
       "      <td>31</td>\n",
       "    </tr>\n",
       "    <tr>\n",
       "      <th>65</th>\n",
       "      <td>Pre-Prohibition Lager</td>\n",
       "      <td>30</td>\n",
       "    </tr>\n",
       "    <tr>\n",
       "      <th>66</th>\n",
       "      <td>Pre-Prohibition Porter</td>\n",
       "      <td>12</td>\n",
       "    </tr>\n",
       "    <tr>\n",
       "      <th>67</th>\n",
       "      <td>London Brown Ale</td>\n",
       "      <td>8</td>\n",
       "    </tr>\n",
       "  </tbody>\n",
       "</table>\n",
       "</div>"
      ],
      "text/plain": [
       "                     Style  Style Count\n",
       "63       Czech Amber Lager           32\n",
       "64          Tropical Stout           31\n",
       "65   Pre-Prohibition Lager           30\n",
       "66  Pre-Prohibition Porter           12\n",
       "67        London Brown Ale            8"
      ]
     },
     "execution_count": 82,
     "metadata": {},
     "output_type": "execute_result"
    }
   ],
   "source": [
    "#saving count of top style, American IPA, to determine baseline accuracy\n",
    "top_style = rec.groupby(by = 'Style')[['Style']].count().sort_values(by = 'Style', ascending = False).rename(columns = {'Style':'Style Count'}).reset_index().loc[0,'Style Count']\n",
    "\n",
    "#showing counts of granular styles in dataset\n",
    "rec.groupby(by = 'Style')[['Style']].count().sort_values(by = 'Style', ascending = False).rename(columns = {'Style':'Style Count'}).reset_index().tail()"
   ]
  },
  {
   "cell_type": "code",
   "execution_count": 83,
   "metadata": {},
   "outputs": [
    {
     "data": {
      "text/html": [
       "<div>\n",
       "<style scoped>\n",
       "    .dataframe tbody tr th:only-of-type {\n",
       "        vertical-align: middle;\n",
       "    }\n",
       "\n",
       "    .dataframe tbody tr th {\n",
       "        vertical-align: top;\n",
       "    }\n",
       "\n",
       "    .dataframe thead th {\n",
       "        text-align: right;\n",
       "    }\n",
       "</style>\n",
       "<table border=\"1\" class=\"dataframe\">\n",
       "  <thead>\n",
       "    <tr style=\"text-align: right;\">\n",
       "      <th></th>\n",
       "      <th>Style</th>\n",
       "      <th>Style Count</th>\n",
       "      <th>percent</th>\n",
       "    </tr>\n",
       "  </thead>\n",
       "  <tbody>\n",
       "    <tr>\n",
       "      <th>3</th>\n",
       "      <td>Ale</td>\n",
       "      <td>18859</td>\n",
       "      <td>35.189954</td>\n",
       "    </tr>\n",
       "    <tr>\n",
       "      <th>0</th>\n",
       "      <td>IPA</td>\n",
       "      <td>17064</td>\n",
       "      <td>31.840573</td>\n",
       "    </tr>\n",
       "    <tr>\n",
       "      <th>2</th>\n",
       "      <td>Stout</td>\n",
       "      <td>5954</td>\n",
       "      <td>11.109867</td>\n",
       "    </tr>\n",
       "    <tr>\n",
       "      <th>4</th>\n",
       "      <td>Lager</td>\n",
       "      <td>5326</td>\n",
       "      <td>9.938050</td>\n",
       "    </tr>\n",
       "    <tr>\n",
       "      <th>1</th>\n",
       "      <td>Porter</td>\n",
       "      <td>2700</td>\n",
       "      <td>5.038065</td>\n",
       "    </tr>\n",
       "    <tr>\n",
       "      <th>6</th>\n",
       "      <td>Saison</td>\n",
       "      <td>2617</td>\n",
       "      <td>4.883192</td>\n",
       "    </tr>\n",
       "    <tr>\n",
       "      <th>5</th>\n",
       "      <td>Witbier</td>\n",
       "      <td>1072</td>\n",
       "      <td>2.000299</td>\n",
       "    </tr>\n",
       "  </tbody>\n",
       "</table>\n",
       "</div>"
      ],
      "text/plain": [
       "     Style  Style Count    percent\n",
       "3      Ale        18859  35.189954\n",
       "0      IPA        17064  31.840573\n",
       "2    Stout         5954  11.109867\n",
       "4    Lager         5326   9.938050\n",
       "1   Porter         2700   5.038065\n",
       "6   Saison         2617   4.883192\n",
       "5  Witbier         1072   2.000299"
      ]
     },
     "execution_count": 83,
     "metadata": {},
     "output_type": "execute_result"
    }
   ],
   "source": [
    "#dataframe showing totals of styles\n",
    "style_agg = pd.DataFrame(rec[['IPA', 'Porter', 'Stout', 'Ale', 'Lager', 'Witbier', 'Saison']].sum(), columns = ['Style Count']).reset_index().rename(columns = {'index':'Style'}).sort_values(by = 'Style Count', ascending = False)\n",
    "style_agg['percent'] = style_agg['Style Count'].apply(lambda x: x/style_agg['Style Count'].sum()*100)\n",
    "style_agg"
   ]
  },
  {
   "cell_type": "code",
   "execution_count": 84,
   "metadata": {},
   "outputs": [
    {
     "data": {
      "image/png": "[encoded data removed]",
      "text/plain": [
       "<matplotlib.figure.Figure at 0x22cf53f0550>"
      ]
     },
     "metadata": {},
     "output_type": "display_data"
    }
   ],
   "source": [
    "#plotting counts of styles\n",
    "style_agg.plot(x = 'Style', y = 'percent', kind = 'bar', legend = False)\n",
    "plt.title('Percent of Total of Beer Styles')\n",
    "plt.xlabel('Recipe Style')\n",
    "plt.ylabel('Recipe Percent of Total')\n",
    "plt.xticks(rotation = 0);"
   ]
  },
  {
   "cell_type": "code",
   "execution_count": 85,
   "metadata": {},
   "outputs": [
    {
     "data": {
      "image/png": "[encoded data removed]",
      "text/plain": [
       "<matplotlib.figure.Figure at 0x22cf56590b8>"
      ]
     },
     "metadata": {},
     "output_type": "display_data"
    }
   ],
   "source": [
    "#histogram of color\n",
    "rec.hist(column = 'Color', grid = False, bins = 15)\n",
    "plt.xlim(-3, 65)\n",
    "plt.title('Standard Reference Method (SRM) Color Histogram')\n",
    "plt.xlabel('Recipe SRMs')\n",
    "plt.ylabel('Count of Colors');"
   ]
  },
  {
   "cell_type": "code",
   "execution_count": 86,
   "metadata": {},
   "outputs": [
    {
     "data": {
      "image/png": "[encoded data removed]",
      "text/plain": [
       "<matplotlib.figure.Figure at 0x22c86b71588>"
      ]
     },
     "metadata": {},
     "output_type": "display_data"
    }
   ],
   "source": [
    "#boxplots of Color of beer styles\n",
    "sns.factorplot(kind = 'box', \n",
    "               y = 'Color',\n",
    "               x = 'New_StyleID',\n",
    "               data = rec,\n",
    "               size = 5,\n",
    "               aspect = 1.5)\n",
    "plt.title('Boxplots of Color for Beer Styles')\n",
    "plt.xlabel('Beer Style')\n",
    "plt.ylabel('Color (SRM)')\n",
    "plt.ylim([0,100]);"
   ]
  },
  {
   "cell_type": "code",
   "execution_count": 87,
   "metadata": {},
   "outputs": [
    {
     "data": {
      "image/png": "[encoded data removed]",
      "text/plain": [
       "<matplotlib.figure.Figure at 0x22cf51b7ba8>"
      ]
     },
     "metadata": {},
     "output_type": "display_data"
    }
   ],
   "source": [
    "#boxplot of ABV of beer styles\n",
    "sns.factorplot(kind = 'box', \n",
    "               y = 'ABV',\n",
    "               x = 'New_StyleID',\n",
    "               data = rec,\n",
    "               size = 5,\n",
    "               aspect = 1.5)\n",
    "plt.title('Boxplots of ABV for Beer Styles')\n",
    "plt.xlabel('Beer Style')\n",
    "plt.ylabel('Alcohol by Volumne (ABV)')\n",
    "plt.ylim([0,15]);"
   ]
  },
  {
   "cell_type": "code",
   "execution_count": 88,
   "metadata": {},
   "outputs": [
    {
     "data": {
      "image/png": "[encoded data removed]",
      "text/plain": [
       "<matplotlib.figure.Figure at 0x22cf839dbe0>"
      ]
     },
     "metadata": {},
     "output_type": "display_data"
    }
   ],
   "source": [
    "#boxplot of IBUs of beer styles\n",
    "sns.factorplot(kind = 'box', \n",
    "               y = 'IBU',\n",
    "               x = 'New_StyleID',\n",
    "               data = rec,\n",
    "               size = 5,\n",
    "               aspect = 1.5)\n",
    "plt.title('Boxplots of IBUs for Beer Styles')\n",
    "plt.xlabel('Beer Style')\n",
    "plt.ylabel('International Bittering Units (IBUs)')\n",
    "plt.ylim([0,200]);"
   ]
  },
  {
   "cell_type": "markdown",
   "metadata": {},
   "source": [
    "## Split/prepare data for modeling"
   ]
  },
  {
   "cell_type": "code",
   "execution_count": 89,
   "metadata": {},
   "outputs": [],
   "source": [
    "from sklearn.model_selection import train_test_split\n",
    "from sklearn.preprocessing import StandardScaler"
   ]
  },
  {
   "cell_type": "code",
   "execution_count": 90,
   "metadata": {},
   "outputs": [],
   "source": [
    "#declare X and y\n",
    "X = rec[['OG', 'FG', 'ABV', 'IBU', 'Color', 'BoilTime', 'Efficiency']]\n",
    "y = rec[['IPA', 'Porter', 'Stout', 'Ale', 'Lager', 'Witbier', 'Saison']]"
   ]
  },
  {
   "cell_type": "code",
   "execution_count": 91,
   "metadata": {},
   "outputs": [],
   "source": [
    "#train test split\n",
    "X_train, X_test, y_train, y_test = train_test_split(X, y, test_size = 0.3, random_state = 42)\n",
    "\n",
    "#set as numpy array\n",
    "y_train = y_train.as_matrix()\n",
    "y_test = y_test.as_matrix()"
   ]
  },
  {
   "cell_type": "code",
   "execution_count": 92,
   "metadata": {},
   "outputs": [],
   "source": [
    "#standardizing data to normalize with a mean of 0 and a stdDev of 1\n",
    "ss = StandardScaler()\n",
    "X_train = ss.fit_transform(X_train)\n",
    "X_test = ss.transform(X_test)"
   ]
  },
  {
   "cell_type": "markdown",
   "metadata": {},
   "source": [
    "## Create Models"
   ]
  },
  {
   "cell_type": "markdown",
   "metadata": {},
   "source": [
    "### A) CART"
   ]
  },
  {
   "cell_type": "code",
   "execution_count": 93,
   "metadata": {},
   "outputs": [],
   "source": [
    "from sklearn.model_selection import cross_val_score, StratifiedKFold\n",
    "from sklearn.model_selection import GridSearchCV\n",
    "\n",
    "from sklearn.tree import DecisionTreeClassifier\n",
    "from sklearn.ensemble import RandomForestClassifier, ExtraTreesClassifier"
   ]
  },
  {
   "cell_type": "code",
   "execution_count": 94,
   "metadata": {},
   "outputs": [],
   "source": [
    "def CART_model_picker(model_list, X_train, y_train, X_test, y_test):\n",
    "    '''Returns cross-val score and score for all input CART models, returns in sorted order of best performing'''\n",
    "    results = []\n",
    "    \n",
    "    for (k,v) in model_list.items():\n",
    "        scores = cross_val_score(v, X_train, y_train, cv = 5, n_jobs = -1)\n",
    "        v.fit(X_train, y_train)\n",
    "\n",
    "        results.append((k, scores.mean(), v.score(X_test, y_test)))\n",
    "    \n",
    "    results.sort(key = lambda x: x[2], reverse = True)\n",
    "    results.insert(0, ('Model', 'Cross_val_score mean', 'Model Score R^2'))\n",
    "    \n",
    "    return results"
   ]
  },
  {
   "cell_type": "code",
   "execution_count": 95,
   "metadata": {},
   "outputs": [
    {
     "data": {
      "text/plain": [
       "[('Model', 'Cross_val_score mean', 'Model Score R^2'),\n",
       " ('Decision Tree', 0.5598441615089501, 0.5689762408259734),\n",
       " ('Random Forest', 0.5337475105043737, 0.5378778455031721),\n",
       " ('Extra Trees', 0.5099963462584396, 0.5151138201268814)]"
      ]
     },
     "execution_count": 95,
     "metadata": {},
     "output_type": "execute_result"
    }
   ],
   "source": [
    "#figure out which CART model performs the best\n",
    "models = {'Decision Tree': DecisionTreeClassifier(),\n",
    "          'Extra Trees': ExtraTreesClassifier(),\n",
    "          'Random Forest':RandomForestClassifier()\n",
    "         }\n",
    "\n",
    "dt_results = CART_model_picker(models, X_train, y_train, X_test, y_test)\n",
    "dt_results"
   ]
  },
  {
   "cell_type": "code",
   "execution_count": 96,
   "metadata": {},
   "outputs": [
    {
     "name": "stderr",
     "output_type": "stream",
     "text": [
      "C:\\Users\\peckr\\AppData\\Local\\conda\\conda\\envs\\ga\\lib\\site-packages\\pandas\\plotting\\_core.py:1716: UserWarning: Pandas doesn't allow columns to be created via a new attribute name - see https://pandas.pydata.org/pandas-docs/stable/indexing.html#attribute-access\n",
      "  series.name = label\n"
     ]
    },
    {
     "data": {
      "image/png": "[encoded data removed]",
      "text/plain": [
       "<matplotlib.figure.Figure at 0x22cf525eba8>"
      ]
     },
     "metadata": {},
     "output_type": "display_data"
    }
   ],
   "source": [
    "#plotting results from model picker\n",
    "cart_res = pd.DataFrame(dt_results[1:], columns = ['Model', 'Cross_val_mean', 'R2']).sort_values(by = 'R2', ascending = False)\n",
    "cart_res.plot(x = 'Model', y = ['Cross_val_mean', 'R2'], kind = 'bar')\n",
    "plt.title('Results of CART Models')\n",
    "plt.xlabel('CART Model')\n",
    "plt.ylabel('Model Metrics')\n",
    "plt.xticks(rotation=0);"
   ]
  },
  {
   "cell_type": "code",
   "execution_count": 97,
   "metadata": {},
   "outputs": [],
   "source": [
    "#dataframe of feature importances\n",
    "dtc = DecisionTreeClassifier()\n",
    "dtc.fit(X_train, y_train)\n",
    "dtc_feats = pd.DataFrame(list(zip(['OG', 'FG', 'ABV', 'IBU', 'Color', 'BoilTime', 'Efficiency'], dtc.feature_importances_)), \\\n",
    "                         columns = ['Feature', 'Importance']).sort_values(by = 'Importance', ascending = False)\n"
   ]
  },
  {
   "cell_type": "code",
   "execution_count": 98,
   "metadata": {},
   "outputs": [
    {
     "data": {
      "image/png": "[encoded data removed]",
      "text/plain": [
       "<matplotlib.figure.Figure at 0x22c86c7fda0>"
      ]
     },
     "metadata": {},
     "output_type": "display_data"
    }
   ],
   "source": [
    "#plotting feature importances for top decision tree classifier\n",
    "dtc_feats.plot(x = 'Feature', y = 'Importance', kind = 'bar', legend = False)\n",
    "plt.title('Decision Tree Classifier Feature Importances')\n",
    "plt.xlabel('Feature')\n",
    "plt.ylabel('Importance')\n",
    "plt.xticks(rotation=0);"
   ]
  },
  {
   "cell_type": "markdown",
   "metadata": {},
   "source": [
    "### B) Neural Network"
   ]
  },
  {
   "cell_type": "code",
   "execution_count": 99,
   "metadata": {},
   "outputs": [
    {
     "name": "stderr",
     "output_type": "stream",
     "text": [
      "C:\\Users\\peckr\\AppData\\Local\\conda\\conda\\envs\\ga\\lib\\site-packages\\h5py\\__init__.py:36: FutureWarning: Conversion of the second argument of issubdtype from `float` to `np.floating` is deprecated. In future, it will be treated as `np.float64 == np.dtype(float).type`.\n",
      "  from ._conv import register_converters as _register_converters\n",
      "Using TensorFlow backend.\n",
      "Couldn't import dot_parser, loading of dot files will not be possible.\n"
     ]
    }
   ],
   "source": [
    "from keras.models import Sequential\n",
    "from keras.layers import Dense, Dropout\n",
    "from keras import regularizers"
   ]
  },
  {
   "cell_type": "code",
   "execution_count": 190,
   "metadata": {},
   "outputs": [],
   "source": [
    "#create model\n",
    "model = Sequential()"
   ]
  },
  {
   "cell_type": "code",
   "execution_count": 191,
   "metadata": {},
   "outputs": [],
   "source": [
    "#network topology\n",
    "input_units = X_train.shape[1]\n",
    "hidden_units = 4\n",
    "\n",
    "#input layer\n",
    "model.add(Dense(hidden_units, \n",
    "                input_dim = input_units, \n",
    "                activation = 'relu',\n",
    "                kernel_regularizer=regularizers.l2(0.0001)))\n",
    "#hidden layer\n",
    "model.add(Dense(50, activation = 'relu',))\n",
    "#hidden layer\n",
    "model.add(Dense(50, activation = 'relu',))\n",
    "\n",
    "\n",
    "\n",
    "#output layer\n",
    "model.add(Dense(7, activation = 'softmax'))"
   ]
  },
  {
   "cell_type": "code",
   "execution_count": 192,
   "metadata": {},
   "outputs": [],
   "source": [
    "#compile the model\n",
    "model.compile(loss = 'categorical_crossentropy',\n",
    "              optimizer = 'rmsprop',\n",
    "              metrics = ['accuracy'])"
   ]
  },
  {
   "cell_type": "code",
   "execution_count": 193,
   "metadata": {},
   "outputs": [
    {
     "name": "stdout",
     "output_type": "stream",
     "text": [
      "Train on 37514 samples, validate on 16078 samples\n",
      "Epoch 1/30\n",
      "37514/37514 [==============================] - 5s 137us/step - loss: 1.1393 - acc: 0.5942 - val_loss: 1.0301 - val_acc: 0.6190\n",
      "Epoch 2/30\n",
      "37514/37514 [==============================] - 5s 126us/step - loss: 1.0022 - acc: 0.6284 - val_loss: 0.9797 - val_acc: 0.6365\n",
      "Epoch 3/30\n",
      "37514/37514 [==============================] - 5s 121us/step - loss: 0.9770 - acc: 0.6319 - val_loss: 0.9656 - val_acc: 0.6372\n",
      "Epoch 4/30\n",
      "37514/37514 [==============================] - 5s 123us/step - loss: 0.9626 - acc: 0.6348 - val_loss: 0.9534 - val_acc: 0.6427\n",
      "Epoch 5/30\n",
      "37514/37514 [==============================] - 5s 124us/step - loss: 0.9488 - acc: 0.6396 - val_loss: 0.9432 - val_acc: 0.6409\n",
      "Epoch 6/30\n",
      "37514/37514 [==============================] - 5s 129us/step - loss: 0.9356 - acc: 0.6458 - val_loss: 0.9310 - val_acc: 0.6503\n",
      "Epoch 7/30\n",
      "37514/37514 [==============================] - 4s 102us/step - loss: 0.9280 - acc: 0.6493 - val_loss: 0.9276 - val_acc: 0.6508\n",
      "Epoch 8/30\n",
      "37514/37514 [==============================] - 4s 94us/step - loss: 0.9224 - acc: 0.6518 - val_loss: 0.9186 - val_acc: 0.6542\n",
      "Epoch 9/30\n",
      "37514/37514 [==============================] - 5s 131us/step - loss: 0.9188 - acc: 0.6508 - val_loss: 0.9199 - val_acc: 0.6551\n",
      "Epoch 10/30\n",
      "37514/37514 [==============================] - 7s 195us/step - loss: 0.9168 - acc: 0.6517 - val_loss: 0.9148 - val_acc: 0.6559\n",
      "Epoch 11/30\n",
      "37514/37514 [==============================] - 4s 101us/step - loss: 0.9141 - acc: 0.6528 - val_loss: 0.9162 - val_acc: 0.6567\n",
      "Epoch 12/30\n",
      "37514/37514 [==============================] - 3s 74us/step - loss: 0.9124 - acc: 0.6527 - val_loss: 0.9253 - val_acc: 0.6549\n",
      "Epoch 13/30\n",
      "37514/37514 [==============================] - 3s 68us/step - loss: 0.9102 - acc: 0.6549 - val_loss: 0.9099 - val_acc: 0.6580\n",
      "Epoch 14/30\n",
      "37514/37514 [==============================] - 4s 108us/step - loss: 0.9092 - acc: 0.6550 - val_loss: 0.9076 - val_acc: 0.6616\n",
      "Epoch 15/30\n",
      "37514/37514 [==============================] - 2s 59us/step - loss: 0.9089 - acc: 0.6554 - val_loss: 0.9061 - val_acc: 0.6605\n",
      "Epoch 16/30\n",
      "37514/37514 [==============================] - 2s 47us/step - loss: 0.9091 - acc: 0.6563 - val_loss: 0.9115 - val_acc: 0.6584\n",
      "Epoch 17/30\n",
      "37514/37514 [==============================] - 2s 65us/step - loss: 0.9073 - acc: 0.6567 - val_loss: 0.9135 - val_acc: 0.6570\n",
      "Epoch 18/30\n",
      "37514/37514 [==============================] - 2s 63us/step - loss: 0.9063 - acc: 0.6578 - val_loss: 0.9101 - val_acc: 0.6562\n",
      "Epoch 19/30\n",
      "37514/37514 [==============================] - 3s 71us/step - loss: 0.9064 - acc: 0.6561 - val_loss: 0.9073 - val_acc: 0.6593\n",
      "Epoch 20/30\n",
      "37514/37514 [==============================] - 2s 49us/step - loss: 0.9060 - acc: 0.6575 - val_loss: 0.9009 - val_acc: 0.6626\n",
      "Epoch 21/30\n",
      "37514/37514 [==============================] - 3s 70us/step - loss: 0.9066 - acc: 0.6584 - val_loss: 0.9031 - val_acc: 0.6640\n",
      "Epoch 22/30\n",
      "37514/37514 [==============================] - 2s 44us/step - loss: 0.9057 - acc: 0.6582 - val_loss: 0.9064 - val_acc: 0.6643\n",
      "Epoch 23/30\n",
      "37514/37514 [==============================] - 2s 49us/step - loss: 0.9050 - acc: 0.6598 - val_loss: 0.9161 - val_acc: 0.6613\n",
      "Epoch 24/30\n",
      "37514/37514 [==============================] - 5s 141us/step - loss: 0.9061 - acc: 0.6591 - val_loss: 0.9067 - val_acc: 0.6652\n",
      "Epoch 25/30\n",
      "37514/37514 [==============================] - 4s 104us/step - loss: 0.9049 - acc: 0.6586 - val_loss: 0.9030 - val_acc: 0.6609\n",
      "Epoch 26/30\n",
      "37514/37514 [==============================] - 4s 110us/step - loss: 0.9042 - acc: 0.6573 - val_loss: 0.9147 - val_acc: 0.6662\n",
      "Epoch 27/30\n",
      "37514/37514 [==============================] - 2s 50us/step - loss: 0.9044 - acc: 0.6583 - val_loss: 0.9048 - val_acc: 0.6634\n",
      "Epoch 28/30\n",
      "37514/37514 [==============================] - 2s 46us/step - loss: 0.9042 - acc: 0.6606 - val_loss: 0.9135 - val_acc: 0.6623\n",
      "Epoch 29/30\n",
      "37514/37514 [==============================] - 2s 56us/step - loss: 0.9047 - acc: 0.6601 - val_loss: 0.9089 - val_acc: 0.6626\n",
      "Epoch 30/30\n",
      "37514/37514 [==============================] - 2s 62us/step - loss: 0.9053 - acc: 0.6569 - val_loss: 0.9131 - val_acc: 0.6597\n"
     ]
    }
   ],
   "source": [
    "#train the model\n",
    "history = model.fit(X_train, y_train,\n",
    "                   validation_data = (X_test, y_test),\n",
    "                   epochs = 30, \n",
    "                   batch_size = None, \n",
    "                   verbose = 1)"
   ]
  },
  {
   "cell_type": "code",
   "execution_count": 194,
   "metadata": {},
   "outputs": [
    {
     "data": {
      "image/png": "[encoded data removed]",
      "text/plain": [
       "<matplotlib.figure.Figure at 0x22c9d7abe80>"
      ]
     },
     "metadata": {},
     "output_type": "display_data"
    }
   ],
   "source": [
    "#plotting accuracy over epochs\n",
    "plt.plot(history.history['acc'])\n",
    "plt.plot(history.history['val_acc'])\n",
    "plt.title('Neural Network Accuracy over Epochs')\n",
    "plt.ylabel('Accuracy')\n",
    "plt.xlabel('Epochs')\n",
    "plt.legend(['Test', 'Train']);"
   ]
  },
  {
   "cell_type": "code",
   "execution_count": 195,
   "metadata": {},
   "outputs": [
    {
     "data": {
      "image/png": "[encoded data removed]",
      "text/plain": [
       "<matplotlib.figure.Figure at 0x22c9d723f60>"
      ]
     },
     "metadata": {},
     "output_type": "display_data"
    }
   ],
   "source": [
    "train_loss = history.history['loss']\n",
    "test_loss = history.history['val_loss']\n",
    "\n",
    "plt.plot(train_loss, label = 'Train loss')\n",
    "plt.plot(test_loss, label = 'Test loss')\n",
    "plt.legend();\n",
    "plt.title('Neural Network Test and Train Loss Over Epochs')\n",
    "plt.ylabel('L2 Loss')\n",
    "plt.xlabel('Epochs')\n",
    "plt.legend(['Test', 'Train']);"
   ]
  },
  {
   "cell_type": "code",
   "execution_count": null,
   "metadata": {},
   "outputs": [],
   "source": []
  },
  {
   "cell_type": "code",
   "execution_count": null,
   "metadata": {},
   "outputs": [],
   "source": []
  }
 ],
 "metadata": {
  "kernelspec": {
   "display_name": "Python 3",
   "language": "python",
   "name": "python3"
  },
  "language_info": {
   "codemirror_mode": {
    "name": "ipython",
    "version": 3
   },
   "file_extension": ".py",
   "mimetype": "text/x-python",
   "name": "python",
   "nbconvert_exporter": "python",
   "pygments_lexer": "ipython3",
   "version": "3.5.4"
  }
 },
 "nbformat": 4,
 "nbformat_minor": 2
}
